{
  "nbformat": 4,
  "nbformat_minor": 0,
  "metadata": {
    "colab": {
      "provenance": []
    },
    "kernelspec": {
      "name": "python3",
      "display_name": "Python 3"
    },
    "language_info": {
      "name": "python"
    }
  },
  "cells": [
    {
      "cell_type": "markdown",
      "metadata": {
        "id": "wWOqbZO9V36N"
      },
      "source": [
        "#FashionMNIST Project \n",
        "\n",
        "For this Project, I build a neural network classifier on the FasionMNIST dataset. The FashionMNIST dataset has a lot in common with the MNIST dataset:\n",
        "- The dataset contains 70,000 grayscale images, split into training set (60,000 images) and test set (10,000 images).\n",
        "- The resolution of images is 28 by 28 pixels.\n",
        "- There are a total of 10 target labels.\n",
        "\n",
        "<img src=\"https://tensorflow.org/images/fashion-mnist-sprite.png\" width=\"600\">"
      ]
    },
    {
      "cell_type": "code",
      "metadata": {
        "id": "ryKQmAcpV7Yh",
        "outputId": "9777d968-008e-4c31-f4f1-15307eafc703",
        "colab": {
          "base_uri": "https://localhost:8080/"
        }
      },
      "source": [
        "import numpy as np\n",
        "import tensorflow as tf\n",
        "print(\"Version: \", tf.__version__)"
      ],
      "execution_count": null,
      "outputs": [
        {
          "output_type": "stream",
          "name": "stdout",
          "text": [
            "Version:  2.9.2\n"
          ]
        }
      ]
    },
    {
      "cell_type": "code",
      "metadata": {
        "id": "z2YkOEyRV7ax",
        "colab": {
          "base_uri": "https://localhost:8080/"
        },
        "outputId": "2127d7bb-a589-4a83-dcac-3df98854cbbe"
      },
      "source": [
        "# Import the dataset\n",
        "fashion_mnist = tf.keras.datasets.fashion_mnist\n",
        "\n",
        "(train_images, train_labels), (test_images, test_labels) = fashion_mnist.load_data()"
      ],
      "execution_count": null,
      "outputs": [
        {
          "output_type": "stream",
          "name": "stdout",
          "text": [
            "Downloading data from https://storage.googleapis.com/tensorflow/tf-keras-datasets/train-labels-idx1-ubyte.gz\n",
            "29515/29515 [==============================] - 0s 0us/step\n",
            "Downloading data from https://storage.googleapis.com/tensorflow/tf-keras-datasets/train-images-idx3-ubyte.gz\n",
            "26421880/26421880 [==============================] - 2s 0us/step\n",
            "Downloading data from https://storage.googleapis.com/tensorflow/tf-keras-datasets/t10k-labels-idx1-ubyte.gz\n",
            "5148/5148 [==============================] - 0s 0us/step\n",
            "Downloading data from https://storage.googleapis.com/tensorflow/tf-keras-datasets/t10k-images-idx3-ubyte.gz\n",
            "4422102/4422102 [==============================] - 0s 0us/step\n"
          ]
        }
      ]
    },
    {
      "cell_type": "code",
      "metadata": {
        "id": "CSm_u-O6V7dh"
      },
      "source": [
        "# Here are the list of class names\n",
        "class_names = ['T-shirt/top', 'Trouser', 'Pullover', 'Dress', 'Coat',\n",
        "               'Sandal', 'Shirt', 'Sneaker', 'Bag', 'Ankle boot']"
      ],
      "execution_count": null,
      "outputs": []
    },
    {
      "cell_type": "markdown",
      "metadata": {
        "id": "1oO38lwbV7f9"
      },
      "source": [
        "Please complete the following tasks:\n",
        "1. Scale the values to [0, 1] by dividing every value by 255.0.\n",
        "2. Use `plt.imshow()` to display the first image from the training set.\n",
        "3. Build a neural network with three layers:\n",
        "    - The first layer is a flatten layer of size 28 * 28.\n",
        "    - The second layer is a dense layer with 128 nodes, with ReLU as activation function.\n",
        "    - The last layer is a dense layer with 10 nodes with softmax activation.\n",
        "4. Compile the model, using `adam` as optimizer and `tf.keras.losses.SparseCategoricalCrossentropy()` as loss function. Use `accuracy` as performance metrics.\n",
        "5. Train the model using `train_images` and `train_labels` for 10 epochs.\n",
        "6. Evaluate the accuracy on the test set.\n",
        "7. Compute the confusion matrix over test set. Which type of prediction mistake occurs most frequently?"
      ]
    },
    {
      "cell_type": "code",
      "source": [
        "#Scale the values to [0, 1] by dividing every value by 255.0\n",
        "train_images,test_images = train_images / 255.0, test_images / 255.0\n",
        "print(train_images.shape, test_images.shape, train_labels.shape, test_labels.shape)"
      ],
      "metadata": {
        "id": "GjDQTkgHejMY",
        "outputId": "1c226ab7-221e-4c95-be37-1c4c3b7b4b9e",
        "colab": {
          "base_uri": "https://localhost:8080/"
        }
      },
      "execution_count": null,
      "outputs": [
        {
          "output_type": "stream",
          "name": "stdout",
          "text": [
            "(60000, 28, 28) (10000, 28, 28) (60000,) (10000,)\n"
          ]
        }
      ]
    },
    {
      "cell_type": "code",
      "source": [
        "#Use plt.imshow() to display the first image from the training set\n",
        "import matplotlib.pyplot as plt\n",
        "idx = 123\n",
        "img = train_images[idx, :, :] \n",
        "print(\"Shape of the image:\", img.shape)\n",
        "plt.imshow(img, cmap=\"Greys\")"
      ],
      "metadata": {
        "id": "YtLx-32kLVwj",
        "outputId": "fc7aa5e0-e0ff-4bac-992e-c0d0a3ffafbf",
        "colab": {
          "base_uri": "https://localhost:8080/",
          "height": 301
        }
      },
      "execution_count": null,
      "outputs": [
        {
          "output_type": "stream",
          "name": "stdout",
          "text": [
            "Shape of the image: (28, 28)\n"
          ]
        },
        {
          "output_type": "execute_result",
          "data": {
            "text/plain": [
              "<matplotlib.image.AxesImage at 0x7f7be540d250>"
            ]
          },
          "metadata": {},
          "execution_count": 5
        },
        {
          "output_type": "display_data",
          "data": {
            "text/plain": [
              "<Figure size 432x288 with 1 Axes>"
            ],
            "image/png": "[encoded data removed]"
          },
          "metadata": {
            "needs_background": "light"
          }
        }
      ]
    },
    {
      "cell_type": "code",
      "source": [
        "#Build a neural network with three layers\n",
        "model = tf.keras.models.Sequential([\n",
        "    tf.keras.layers.Flatten(input_shape=(28, 28)), \n",
        "    tf.keras.layers.Dense(128, activation='relu'),\n",
        "    tf.keras.layers.Dense(128, activation='relu'),\n",
        "    tf.keras.layers.Dense(10, activation=\"softmax\")                                   \n",
        "])"
      ],
      "metadata": {
        "id": "5ufP6pEUgMhX"
      },
      "execution_count": null,
      "outputs": []
    },
    {
      "cell_type": "code",
      "source": [
        "#Compile the model, using adam as optimizer and tf.keras.losses.SparseCategoricalCrossentropy() as loss function. Use accuracy as performance metrics\n",
        "index = 1234\n",
        "probs = model(train_images[index:index+2])\n",
        "print(probs)\n",
        "loss_fn = tf.keras.losses.SparseCategoricalCrossentropy()\n",
        "loss_fn(train_labels[index:(index+2)], probs).numpy()\n"
      ],
      "metadata": {
        "id": "L4F6e_Ppmsgq",
        "outputId": "3d3dac01-b47b-4b1a-df9b-25c617dd9d9f",
        "colab": {
          "base_uri": "https://localhost:8080/"
        }
      },
      "execution_count": null,
      "outputs": [
        {
          "output_type": "stream",
          "name": "stdout",
          "text": [
            "tf.Tensor(\n",
            "[[0.081042   0.08919006 0.05067546 0.09186867 0.05130498 0.10505264\n",
            "  0.06043827 0.1397318  0.273299   0.05739709]\n",
            " [0.09188509 0.0955999  0.09778373 0.10343271 0.08417921 0.09538031\n",
            "  0.08232063 0.12632906 0.13052237 0.09256693]], shape=(2, 10), dtype=float32)\n"
          ]
        },
        {
          "output_type": "execute_result",
          "data": {
            "text/plain": [
              "1.8235359"
            ]
          },
          "metadata": {},
          "execution_count": 7
        }
      ]
    },
    {
      "cell_type": "code",
      "source": [
        "#Train the model using train_images and train_labels for 10 epochs\n",
        "model.compile(optimizer='sgd',\n",
        "              loss=loss_fn,\n",
        "              metrics=['accuracy'])\n",
        "history = model.fit(train_images,train_labels , epochs=10)"
      ],
      "metadata": {
        "id": "rzm8pOxxoeTV",
        "outputId": "d8ba06b2-1083-4bc7-a0eb-aa246e0ae930",
        "colab": {
          "base_uri": "https://localhost:8080/"
        }
      },
      "execution_count": null,
      "outputs": [
        {
          "output_type": "stream",
          "name": "stdout",
          "text": [
            "Epoch 1/10\n",
            "1875/1875 [==============================] - 7s 3ms/step - loss: 0.7350 - accuracy: 0.7587\n",
            "Epoch 2/10\n",
            "1875/1875 [==============================] - 6s 3ms/step - loss: 0.4923 - accuracy: 0.8291\n",
            "Epoch 3/10\n",
            "1875/1875 [==============================] - 6s 3ms/step - loss: 0.4451 - accuracy: 0.8447\n",
            "Epoch 4/10\n",
            "1875/1875 [==============================] - 6s 3ms/step - loss: 0.4195 - accuracy: 0.8532\n",
            "Epoch 5/10\n",
            "1875/1875 [==============================] - 6s 3ms/step - loss: 0.3987 - accuracy: 0.8602\n",
            "Epoch 6/10\n",
            "1875/1875 [==============================] - 6s 3ms/step - loss: 0.3834 - accuracy: 0.8650\n",
            "Epoch 7/10\n",
            "1875/1875 [==============================] - 6s 3ms/step - loss: 0.3700 - accuracy: 0.8698\n",
            "Epoch 8/10\n",
            "1875/1875 [==============================] - 7s 4ms/step - loss: 0.3596 - accuracy: 0.8727\n",
            "Epoch 9/10\n",
            "1875/1875 [==============================] - 7s 4ms/step - loss: 0.3498 - accuracy: 0.8755\n",
            "Epoch 10/10\n",
            "1875/1875 [==============================] - 6s 3ms/step - loss: 0.3407 - accuracy: 0.8789\n"
          ]
        }
      ]
    },
    {
      "cell_type": "code",
      "source": [
        "#Evaluate the accuracy on the test set.\n",
        "model.evaluate(test_images, test_labels)"
      ],
      "metadata": {
        "id": "yb-i3D8YqahE",
        "outputId": "4eb32ff0-b3ef-40ef-ed3c-d78c2892290f",
        "colab": {
          "base_uri": "https://localhost:8080/"
        }
      },
      "execution_count": null,
      "outputs": [
        {
          "output_type": "stream",
          "name": "stdout",
          "text": [
            "313/313 [==============================] - 1s 2ms/step - loss: 0.3843 - accuracy: 0.8613\n"
          ]
        },
        {
          "output_type": "execute_result",
          "data": {
            "text/plain": [
              "[0.38434669375419617, 0.861299991607666]"
            ]
          },
          "metadata": {},
          "execution_count": 9
        }
      ]
    },
    {
      "cell_type": "code",
      "source": [
        "#Compute the confusion matrix over test set. Type of prediction mistake occurs most frequently\n",
        "pred = model.predict(test_images)\n",
        "print(pred[0:2, :])\n",
        "mis = np.argmax(pred, axis=1) \n",
        "                                        \n",
        "print(mis)\n",
        "from sklearn.metrics import confusion_matrix\n",
        "mat = confusion_matrix(test_labels, mis)\n",
        "print(mat)"
      ],
      "metadata": {
        "id": "vxJF6sGuqsTd",
        "outputId": "1226ecb8-6a65-4b4a-cb68-040c763452a8",
        "colab": {
          "base_uri": "https://localhost:8080/"
        }
      },
      "execution_count": null,
      "outputs": [
        {
          "output_type": "stream",
          "name": "stdout",
          "text": [
            "313/313 [==============================] - 1s 2ms/step\n",
            "[[1.01505626e-04 4.99009593e-06 6.99288576e-05 3.78101577e-05\n",
            "  2.38496614e-05 6.23402037e-02 1.51776985e-04 6.92097023e-02\n",
            "  4.54327883e-03 8.63516927e-01]\n",
            " [4.03680169e-05 1.65800245e-07 9.97554839e-01 1.11367751e-06\n",
            "  9.36266850e-04 1.62986069e-10 1.46668812e-03 1.64762193e-12\n",
            "  3.92295902e-07 6.78809162e-11]]\n",
            "[9 2 1 ... 8 1 5]\n",
            "[[846   4  20  24   1   3  90   0  12   0]\n",
            " [  4 964   2  23   3   0   3   0   1   0]\n",
            " [ 16   2 858  11  63   1  44   0   5   0]\n",
            " [ 35  16  16 873  24   0  29   0   7   0]\n",
            " [  1   1 186  45 704   0  56   0   7   0]\n",
            " [  0   0   0   1   0 941   0  43   2  13]\n",
            " [151   1 145  26  71   0 587   0  19   0]\n",
            " [  0   0   0   0   0  25   0 927   0  48]\n",
            " [  4   1   5   7   2   4  11   4 962   0]\n",
            " [  0   0   0   0   0  11   1  36   1 951]]\n"
          ]
        }
      ]
    }
  ]
}